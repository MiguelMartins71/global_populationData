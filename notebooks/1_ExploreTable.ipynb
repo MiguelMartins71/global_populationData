{
 "cells": [
  {
   "cell_type": "code",
   "execution_count": 0,
   "metadata": {
    "application/vnd.databricks.v1+cell": {
     "cellMetadata": {
      "byteLimit": 2048000,
      "rowLimit": 10000
     },
     "inputWidgets": {},
     "nuid": "e8f8730d-8c2d-47a1-b0e6-880dcbe8b769",
     "showTitle": false,
     "tableResultSettingsMap": {},
     "title": ""
    }
   },
   "outputs": [],
   "source": [
    "print(\"Starting analysis of world population data\")\n",
    "print(\"=\" * 50)"
   ]
  },
  {
   "cell_type": "code",
   "execution_count": 0,
   "metadata": {
    "application/vnd.databricks.v1+cell": {
     "cellMetadata": {
      "byteLimit": 2048000,
      "rowLimit": 10000
     },
     "inputWidgets": {},
     "nuid": "2f1b04a5-97ac-4e2d-85c2-34b9e49376e2",
     "showTitle": false,
     "tableResultSettingsMap": {},
     "title": ""
    }
   },
   "outputs": [],
   "source": [
    "df_global = spark.read.table(\"workspace.default.global_population_stats\")\n",
    "display(df_global)"
   ]
  },
  {
   "cell_type": "code",
   "execution_count": 0,
   "metadata": {
    "application/vnd.databricks.v1+cell": {
     "cellMetadata": {
      "byteLimit": 2048000,
      "rowLimit": 10000
     },
     "inputWidgets": {},
     "nuid": "e88d8836-c9e7-44c7-a33c-a472fabb68a4",
     "showTitle": false,
     "tableResultSettingsMap": {},
     "title": ""
    }
   },
   "outputs": [],
   "source": [
    "#países com maior número de habitantes\n",
    "from pyspark.sql import functions as f\n",
    "\n",
    "population_top10 = (\n",
    "    df_global.groupBy(\"Country\")\n",
    "    .agg(f.sum(\"Population(in millions)\").alias(\"Population\"))\n",
    "    .orderBy(\"Population\", ascending=False)\n",
    "    .limit(10)\n",
    ")\n",
    "\n",
    "display(population_top10)\n"
   ]
  },
  {
   "cell_type": "code",
   "execution_count": 0,
   "metadata": {
    "application/vnd.databricks.v1+cell": {
     "cellMetadata": {
      "byteLimit": 2048000,
      "rowLimit": 10000
     },
     "inputWidgets": {},
     "nuid": "f5d5a373-f409-44a3-b774-3a86a5928275",
     "showTitle": false,
     "tableResultSettingsMap": {
      "0": {
       "dataGridStateBlob": "{\"version\":1,\"tableState\":{\"columnPinning\":{\"left\":[\"#row_number#\"],\"right\":[]},\"columnSizing\":{},\"columnVisibility\":{}},\"settings\":{\"columns\":{}},\"syncTimestamp\":1760493499275}",
       "filterBlob": null,
       "queryPlanFiltersBlob": null,
       "tableResultIndex": 0
      }
     },
     "title": ""
    }
   },
   "outputs": [],
   "source": [
    "#densidade populacional\n",
    "from pyspark.sql import functions as f\n",
    "population_density = (\n",
    "df_global.groupBy(\"Country\")\n",
    "    .agg(f.sum(\"Population density\").alias(\"Population density\"))\n",
    "    .orderBy(\"Population density\", ascending=False)\n",
    "    .limit(30)   \n",
    ")\n",
    "\n",
    "display(population_density)"
   ]
  },
  {
   "cell_type": "code",
   "execution_count": 0,
   "metadata": {
    "application/vnd.databricks.v1+cell": {
     "cellMetadata": {
      "byteLimit": 2048000,
      "rowLimit": 10000
     },
     "inputWidgets": {},
     "nuid": "1a0898be-c1ab-4b64-ab15-fba3a7ad19a4",
     "showTitle": false,
     "tableResultSettingsMap": {},
     "title": ""
    }
   },
   "outputs": [],
   "source": [
    "#Query para encontrar os países com maior população feminina onde a população de idosos é maior que 10%\n",
    "import pyspark.sql.functions as f\n",
    "\n",
    "population_f = (\n",
    "    df_global.filter(\n",
    "        f.col(\"Population Aged 60 and Over (%)\") > 10\n",
    "    )\n",
    "    .groupBy(\"Country\")\n",
    "    .agg(\n",
    "        f.sum(\"Female Population(in millions)\").alias(\"Female Population(in millions)\")\n",
    "    )\n",
    "    .orderBy(\"Female Population(in millions)\", ascending=False)\n",
    "    .limit(30)\n",
    ")\n",
    "display(population_f)"
   ]
  },
  {
   "cell_type": "code",
   "execution_count": 0,
   "metadata": {
    "application/vnd.databricks.v1+cell": {
     "cellMetadata": {
      "byteLimit": 2048000,
      "rowLimit": 10000
     },
     "inputWidgets": {},
     "nuid": "c6786645-07a6-4729-9634-869aac80bb8c",
     "showTitle": false,
     "tableResultSettingsMap": {},
     "title": ""
    }
   },
   "outputs": [],
   "source": [
    "import pyspark.sql.functions as f\n",
    "\n",
    "population_early = (\n",
    "df_global.groupBy(\"Country\")\n",
    ".agg(\n",
    "    f.sum(\"Population Aged 0 to 14 (%)\").alias(\"Population Aged 0 to 14 (%)\")\n",
    ")\n",
    ".orderBy(\"Population Aged 0 to 14 (%)\", ascending=False)\n",
    ".limit(30)\n",
    "\n",
    ")\n",
    "display(population_early)"
   ]
  }
 ],
 "metadata": {
  "application/vnd.databricks.v1+notebook": {
   "computePreferences": {
    "hardware": {
     "accelerator": null,
     "gpuPoolId": null,
     "memory": null
    }
   },
   "dashboards": [],
   "environmentMetadata": {
    "base_environment": "",
    "environment_version": "4"
   },
   "inputWidgetPreferences": null,
   "language": "python",
   "notebookMetadata": {
    "pythonIndentUnit": 4
   },
   "notebookName": "1_ExploreTable",
   "widgets": {}
  },
  "language_info": {
   "name": "python"
  }
 },
 "nbformat": 4,
 "nbformat_minor": 0
}
